{
 "cells": [
  {
   "attachments": {},
   "cell_type": "markdown",
   "id": "d6fb97ec",
   "metadata": {},
   "source": [
    "## Stock prices ETL - Historical data"
   ]
  },
  {
   "attachments": {},
   "cell_type": "markdown",
   "id": "ada05eea",
   "metadata": {},
   "source": [
    "### 0. Imports and params"
   ]
  },
  {
   "cell_type": "code",
   "execution_count": 1,
   "id": "080eed0f",
   "metadata": {},
   "outputs": [],
   "source": [
    "import numpy as np\n",
    "import pandas as pd\n",
    "import quandl\n",
    "import yfinance as yf\n",
    "import os\n",
    "import matplotlib.pyplot as plt"
   ]
  },
  {
   "cell_type": "code",
   "execution_count": 2,
   "id": "3938864d",
   "metadata": {},
   "outputs": [
    {
     "name": "stdout",
     "output_type": "stream",
     "text": [
      "2003-05-21 - 2023-05-21\n"
     ]
    }
   ],
   "source": [
    "hist_years = 20\n",
    "bronze = './data/bronze/stock-prices/'\n",
    "silver = './data/silver/stock-prices/'\n",
    "gold = './data/gold/portfolio-optimization/'\n",
    "ticker = ['AAPL','MSFT','AMZN','TSLA','GOOGL','GOOG','NVDA','BRK-B','META','UNH','^GSPC']\n",
    "start = (pd.to_datetime('today').normalize()+pd.DateOffset(years=-hist_years)).strftime('%Y-%m-%d')\n",
    "end = pd.to_datetime('today').normalize().strftime('%Y-%m-%d')\n",
    "print('{} - {}'.format(start, end))"
   ]
  },
  {
   "cell_type": "code",
   "execution_count": 3,
   "id": "54599894",
   "metadata": {},
   "outputs": [],
   "source": [
    "if not os.path.exists(bronze+end+'/'):\n",
    "    os.makedirs(bronze+end+'/')\n",
    "if not os.path.exists(silver):\n",
    "    os.makedirs(silver)\n",
    "if not os.path.exists(gold):\n",
    "    os.makedirs(gold)"
   ]
  },
  {
   "attachments": {},
   "cell_type": "markdown",
   "id": "d4f49306",
   "metadata": {},
   "source": [
    "### 1. Bronze Layer"
   ]
  },
  {
   "cell_type": "code",
   "execution_count": 4,
   "id": "d2e050b5",
   "metadata": {},
   "outputs": [
    {
     "name": "stdout",
     "output_type": "stream",
     "text": [
      "[*********************100%***********************]  1 of 1 completed\n",
      "[*********************100%***********************]  1 of 1 completed\n",
      "[*********************100%***********************]  1 of 1 completed\n",
      "[*********************100%***********************]  1 of 1 completed\n",
      "[*********************100%***********************]  1 of 1 completed\n",
      "[*********************100%***********************]  1 of 1 completed\n",
      "[*********************100%***********************]  1 of 1 completed\n",
      "[*********************100%***********************]  1 of 1 completed\n",
      "[*********************100%***********************]  1 of 1 completed\n",
      "[*********************100%***********************]  1 of 1 completed\n",
      "[*********************100%***********************]  1 of 1 completed\n"
     ]
    }
   ],
   "source": [
    "# Data extraction\n",
    "for i in ticker:\n",
    "    brz_data = yf.download(i, start=start, end=end)\n",
    "    brz_data['Ticker']=i\n",
    "    brz_data.to_csv(bronze+end+'/'+i+'.csv')"
   ]
  },
  {
   "attachments": {},
   "cell_type": "markdown",
   "id": "fb08f91c",
   "metadata": {},
   "source": [
    "### 2. Silver Layer"
   ]
  },
  {
   "cell_type": "code",
   "execution_count": 5,
   "id": "f1f2e379",
   "metadata": {},
   "outputs": [],
   "source": [
    "slv_data = pd.DataFrame()\n",
    "for i in ticker:\n",
    "    df = pd.read_csv(bronze+end+'/'+i+'.csv')\n",
    "    slv_data = pd.concat([slv_data, df])\n",
    "slv_data.to_csv(silver+'stock_prices.csv',index=False)"
   ]
  }
 ],
 "metadata": {
  "kernelspec": {
   "display_name": "Python 3 (ipykernel)",
   "language": "python",
   "name": "python3"
  },
  "language_info": {
   "codemirror_mode": {
    "name": "ipython",
    "version": 3
   },
   "file_extension": ".py",
   "mimetype": "text/x-python",
   "name": "python",
   "nbconvert_exporter": "python",
   "pygments_lexer": "ipython3",
   "version": "3.10.9"
  }
 },
 "nbformat": 4,
 "nbformat_minor": 5
}
